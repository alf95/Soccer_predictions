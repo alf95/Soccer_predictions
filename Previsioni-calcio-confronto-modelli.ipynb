{
 "cells": [
  {
   "cell_type": "code",
   "execution_count": 1,
   "metadata": {},
   "outputs": [],
   "source": [
    "import pandas as pd\n",
    "import numpy as np\n",
    "from sklearn.linear_model import LinearRegression\n",
    "from sklearn.model_selection import train_test_split\n",
    "import matplotlib.pyplot as plt\n",
    "from sklearn.metrics import confusion_matrix, classification_report,r2_score\n",
    "from sklearn.preprocessing import MinMaxScaler\n",
    "\n",
    "\"\"\" Field Name\tOrder\tType (Format)\tDescription\n",
    "Date\t1\tdate (%Y-%m-%d)\tMatch Date (dd/mm/yy)                             -------> NO\n",
    "HomeTeam\t2\tstring (default)\tHome Team\n",
    "AwayTeam\t3\tstring (default)\tAway Team\n",
    "FTHG\t4\tinteger (default)\tFull Time Home Team Goals\n",
    "FTAG\t5\tinteger (default)\tFull Time Away Team Goals\n",
    "FTR\t6\tstring (default)\tFull Time Result (H=Home Win, D=Draw, A=Away Win) -------> NO\n",
    "HTHG\t7\tinteger (default)\tHalf Time Home Team Goals\n",
    "HTAG\t8\tinteger (default)\tHalf Time Away Team Goals\n",
    "HTR\t9\tstring (default)\tHalf Time Result (H=Home Win, D=Draw, A=Away Win) -------> NO\n",
    "HS\t10\tinteger (default)\tHome Team Shots\n",
    "AS\t11\tinteger (default)\tAway Team Shots\n",
    "HST\t12\tinteger (default)\tHome Team Shots on Target\n",
    "AST\t13\tinteger (default)\tAway Team Shots on Target\n",
    "HF\t14\tinteger (default)\tHome Team Fouls Committed\n",
    "AF\t15\tinteger (default)\tAway Team Fouls Committed\n",
    "HC\t16\tinteger (default)\tHome Team Corners\n",
    "AC\t17\tinteger (default)\tAway Team Corners\n",
    "HY\t18\tinteger (default)\tHome Team Yellow Cards\n",
    "AY\t19\tinteger (default)\tAway Team Yellow Cards\n",
    "HR\t20\tinteger (default)\tHome Team Red Cards\n",
    "AR\t21\tinteger (default)\tAway Team Red Cards \"\"\"\n",
    "\n",
    "\n",
    "squadre =  {\n",
    "                'Genoa' : 0,\n",
    "                'Udinese' : 1,\n",
    "                'Napoli'  : 2,\n",
    "                'Empoli'  : 3,\n",
    "                'Milan'   : 4,\n",
    "                'Atalanta': 5,\n",
    "                'Chievo'  : 6,\n",
    "                'Juventus': 7,\n",
    "                'Lazio'   : 8,\n",
    "                'Spal'    : 9,\n",
    "                'Parma'   : 10,\n",
    "                'Cagliari': 11,\n",
    "                'Sassuolo': 12,\n",
    "                'Torino'  : 13,\n",
    "                'Inter'   : 14,\n",
    "                'Fiorentina': 15,\n",
    "                'Bologna'   : 16,\n",
    "                'Roma'      : 17,\n",
    "                'Sampdoria' : 18,\n",
    "                'Frosinone' : 19\n",
    "            }"
   ]
  },
  {
   "cell_type": "code",
   "execution_count": 2,
   "metadata": {},
   "outputs": [],
   "source": [
    "squadre =  {\n",
    "                'Genoa' : 0,\n",
    "                'Udinese' : 1,\n",
    "                'Napoli'  : 2,\n",
    "                'Empoli'  : 3,\n",
    "                'Milan'   : 4,\n",
    "                'Atalanta': 5,\n",
    "                'Chievo'  : 6,\n",
    "                'Juventus': 7,\n",
    "                'Lazio'   : 8,\n",
    "                'Spal'    : 9,\n",
    "                'Parma'   : 10,\n",
    "                'Cagliari': 11,\n",
    "                'Sassuolo': 12,\n",
    "                'Torino'  : 13,\n",
    "                'Inter'   : 14,\n",
    "                'Fiorentina': 15,\n",
    "                'Bologna'   : 16,\n",
    "                'Roma'      : 17,\n",
    "                'Sampdoria' : 18,\n",
    "                'Frosinone' : 19\n",
    "            }"
   ]
  },
  {
   "cell_type": "code",
   "execution_count": 3,
   "metadata": {},
   "outputs": [],
   "source": [
    "df = pd.read_csv(\"season-1819_csv.csv\")"
   ]
  },
  {
   "cell_type": "code",
   "execution_count": 4,
   "metadata": {},
   "outputs": [],
   "source": [
    "df.drop(['Date'], axis='columns', inplace=True) #Tolgo la colonna Date\n",
    "df.drop(['FTR'], axis='columns', inplace=True) #Tolgo la colonna FTR\n",
    "df.drop(['HTR'], axis='columns', inplace=True) #Tolgo la colonna HTR"
   ]
  },
  {
   "cell_type": "code",
   "execution_count": 5,
   "metadata": {},
   "outputs": [],
   "source": [
    "df['HomeTeam'] = df['HomeTeam'].map(squadre)\n",
    "df['AwayTeam'] = df['AwayTeam'].map(squadre)"
   ]
  },
  {
   "cell_type": "code",
   "execution_count": 187,
   "metadata": {},
   "outputs": [],
   "source": [
    "df.drop(['FTHG_M'], axis='columns', inplace=True)"
   ]
  },
  {
   "cell_type": "code",
   "execution_count": 237,
   "metadata": {},
   "outputs": [],
   "source": [
    "columns_home = ['FTHG', 'HTHG', 'HS', 'HST', 'HF', 'HC', 'HY', 'HR']"
   ]
  },
  {
   "cell_type": "code",
   "execution_count": 304,
   "metadata": {},
   "outputs": [
    {
     "name": "stdout",
     "output_type": "stream",
     "text": [
      "FTHG\n",
      "[[0]]\n",
      "HTHG\n",
      "[[1]]\n",
      "HS\n",
      "[[2]]\n",
      "HST\n",
      "[[3]]\n",
      "HF\n",
      "[[4]]\n",
      "HC\n",
      "[[5]]\n",
      "HY\n",
      "[[6]]\n",
      "HR\n",
      "[[7]]\n"
     ]
    }
   ],
   "source": [
    "columns_away = df.columns.values\n",
    "columns_away = np.delete(columns_away, np.argwhere(columns_away == 'HomeTeam'))\n",
    "columns_away = np.delete(columns_away, np.argwhere(columns_away == 'AwayTeam'))\n",
    "for i in range(len(columns_home)):\n",
    "    index = np.argwhere(columns_away == columns_home[i])\n",
    "    print(columns_home[i])\n",
    "    print(index)\n",
    "    columns_away = np.delete(columns_away, index)\n"
   ]
  },
  {
   "cell_type": "code",
   "execution_count": 305,
   "metadata": {},
   "outputs": [
    {
     "data": {
      "text/plain": [
       "array(['FTAG', 'HTAG', 'AS', 'AST', 'AF', 'AC', 'AY', 'AR'], dtype=object)"
      ]
     },
     "execution_count": 305,
     "metadata": {},
     "output_type": "execute_result"
    }
   ],
   "source": [
    "columns_away"
   ]
  },
  {
   "cell_type": "code",
   "execution_count": 303,
   "metadata": {},
   "outputs": [],
   "source": [
    "columns_mean = []"
   ]
  },
  {
   "cell_type": "code",
   "execution_count": 306,
   "metadata": {},
   "outputs": [],
   "source": [
    "#aggiungo le colonne per la media\n",
    "for i in range (df.columns.size):\n",
    "    if(df.columns[i] != 'HomeTeam' and df.columns[i] != 'AwayTeam'):\n",
    "        columns_mean.append(df.columns[i] + '_M')\n",
    "        df[df.columns[i] + '_M'] = 0\n",
    "    "
   ]
  },
  {
   "cell_type": "code",
   "execution_count": 301,
   "metadata": {},
   "outputs": [],
   "source": [
    "#tolgo le colonne per la media\n",
    "for i in range (df.columns.size):\n",
    "    if(df.columns[i].find('_M') != -1):\n",
    "        df.drop(df.columns[i], axis='columns', inplace=True)\n",
    "    "
   ]
  },
  {
   "cell_type": "code",
   "execution_count": 307,
   "metadata": {},
   "outputs": [
    {
     "data": {
      "text/plain": [
       "['FTHG_M',\n",
       " 'FTAG_M',\n",
       " 'HTHG_M',\n",
       " 'HTAG_M',\n",
       " 'HS_M',\n",
       " 'AS_M',\n",
       " 'HST_M',\n",
       " 'AST_M',\n",
       " 'HF_M',\n",
       " 'AF_M',\n",
       " 'HC_M',\n",
       " 'AC_M',\n",
       " 'HY_M',\n",
       " 'AY_M',\n",
       " 'HR_M',\n",
       " 'AR_M']"
      ]
     },
     "execution_count": 307,
     "metadata": {},
     "output_type": "execute_result"
    }
   ],
   "source": [
    "columns_mean"
   ]
  },
  {
   "cell_type": "code",
   "execution_count": 235,
   "metadata": {},
   "outputs": [
    {
     "data": {
      "text/plain": [
       "'HTHG'"
      ]
     },
     "execution_count": 235,
     "metadata": {},
     "output_type": "execute_result"
    }
   ],
   "source": [
    "df.columns[20].partition('_M')"
   ]
  },
  {
   "cell_type": "code",
   "execution_count": 330,
   "metadata": {},
   "outputs": [],
   "source": [
    "def mediaColonne(name_mean, is_home):\n",
    "    for sq in range(20):\n",
    "        column_mean = name_mean + '_M'\n",
    "        if(is_home):\n",
    "            mean_value = df.loc[df.HomeTeam == sq, name_mean].mean()\n",
    "            df.loc[df.HomeTeam == sq, column_mean] = mean_value\n",
    "        else:\n",
    "            mean_value = df.loc[df.AwayTeam == sq, name_mean].mean()\n",
    "            df.loc[df.AwayTeam == sq, column_mean] = mean_value"
   ]
  },
  {
   "cell_type": "code",
   "execution_count": 331,
   "metadata": {},
   "outputs": [],
   "source": [
    "#faccio la media delle colonne della squadra di casa\n",
    "for i in range(len(columns_home)):\n",
    "        from_media_column = columns_home[i]\n",
    "        mediaColonne(from_media_column, True)\n",
    "        \n"
   ]
  },
  {
   "cell_type": "code",
   "execution_count": 332,
   "metadata": {},
   "outputs": [],
   "source": [
    "#faccio la media delle colonne della squadra in trasferta\n",
    "for i in range(len(columns_away)):\n",
    "        from_media_column = columns_away[i]\n",
    "        mediaColonne(from_media_column, False)\n",
    "        "
   ]
  },
  {
   "cell_type": "code",
   "execution_count": 336,
   "metadata": {},
   "outputs": [
    {
     "data": {
      "text/html": [
       "<div>\n",
       "<style scoped>\n",
       "    .dataframe tbody tr th:only-of-type {\n",
       "        vertical-align: middle;\n",
       "    }\n",
       "\n",
       "    .dataframe tbody tr th {\n",
       "        vertical-align: top;\n",
       "    }\n",
       "\n",
       "    .dataframe thead th {\n",
       "        text-align: right;\n",
       "    }\n",
       "</style>\n",
       "<table border=\"1\" class=\"dataframe\">\n",
       "  <thead>\n",
       "    <tr style=\"text-align: right;\">\n",
       "      <th></th>\n",
       "      <th>FTHG_M</th>\n",
       "      <th>FTAG_M</th>\n",
       "      <th>HTHG_M</th>\n",
       "      <th>HTAG_M</th>\n",
       "      <th>HS_M</th>\n",
       "      <th>AS_M</th>\n",
       "      <th>HST_M</th>\n",
       "      <th>AST_M</th>\n",
       "      <th>HF_M</th>\n",
       "      <th>AF_M</th>\n",
       "      <th>HC_M</th>\n",
       "      <th>AC_M</th>\n",
       "      <th>HY_M</th>\n",
       "      <th>AY_M</th>\n",
       "      <th>HR_M</th>\n",
       "      <th>AR_M</th>\n",
       "    </tr>\n",
       "  </thead>\n",
       "  <tbody>\n",
       "    <tr>\n",
       "      <th>13</th>\n",
       "      <td>1.214286</td>\n",
       "      <td>0.916667</td>\n",
       "      <td>0.714286</td>\n",
       "      <td>0.416667</td>\n",
       "      <td>10.642857</td>\n",
       "      <td>9.583333</td>\n",
       "      <td>5.285714</td>\n",
       "      <td>5.166667</td>\n",
       "      <td>13.642857</td>\n",
       "      <td>11.166667</td>\n",
       "      <td>5.571429</td>\n",
       "      <td>5.583333</td>\n",
       "      <td>2.571429</td>\n",
       "      <td>2.000000</td>\n",
       "      <td>0.142857</td>\n",
       "      <td>0.166667</td>\n",
       "    </tr>\n",
       "    <tr>\n",
       "      <th>33</th>\n",
       "      <td>1.214286</td>\n",
       "      <td>0.857143</td>\n",
       "      <td>0.714286</td>\n",
       "      <td>0.571429</td>\n",
       "      <td>10.642857</td>\n",
       "      <td>9.785714</td>\n",
       "      <td>5.285714</td>\n",
       "      <td>5.357143</td>\n",
       "      <td>13.642857</td>\n",
       "      <td>14.571429</td>\n",
       "      <td>5.571429</td>\n",
       "      <td>4.928571</td>\n",
       "      <td>2.571429</td>\n",
       "      <td>2.928571</td>\n",
       "      <td>0.142857</td>\n",
       "      <td>0.071429</td>\n",
       "    </tr>\n",
       "    <tr>\n",
       "      <th>52</th>\n",
       "      <td>1.214286</td>\n",
       "      <td>0.615385</td>\n",
       "      <td>0.714286</td>\n",
       "      <td>0.153846</td>\n",
       "      <td>10.642857</td>\n",
       "      <td>8.230769</td>\n",
       "      <td>5.285714</td>\n",
       "      <td>3.769231</td>\n",
       "      <td>13.642857</td>\n",
       "      <td>14.846154</td>\n",
       "      <td>5.571429</td>\n",
       "      <td>3.538462</td>\n",
       "      <td>2.571429</td>\n",
       "      <td>2.923077</td>\n",
       "      <td>0.142857</td>\n",
       "      <td>0.076923</td>\n",
       "    </tr>\n",
       "    <tr>\n",
       "      <th>74</th>\n",
       "      <td>1.214286</td>\n",
       "      <td>1.307692</td>\n",
       "      <td>0.714286</td>\n",
       "      <td>0.769231</td>\n",
       "      <td>10.642857</td>\n",
       "      <td>6.384615</td>\n",
       "      <td>5.285714</td>\n",
       "      <td>3.461538</td>\n",
       "      <td>13.642857</td>\n",
       "      <td>12.307692</td>\n",
       "      <td>5.571429</td>\n",
       "      <td>3.923077</td>\n",
       "      <td>2.571429</td>\n",
       "      <td>2.153846</td>\n",
       "      <td>0.142857</td>\n",
       "      <td>0.000000</td>\n",
       "    </tr>\n",
       "    <tr>\n",
       "      <th>93</th>\n",
       "      <td>1.214286</td>\n",
       "      <td>0.727273</td>\n",
       "      <td>0.714286</td>\n",
       "      <td>0.090909</td>\n",
       "      <td>10.642857</td>\n",
       "      <td>9.181818</td>\n",
       "      <td>5.285714</td>\n",
       "      <td>3.818182</td>\n",
       "      <td>13.642857</td>\n",
       "      <td>13.727273</td>\n",
       "      <td>5.571429</td>\n",
       "      <td>4.000000</td>\n",
       "      <td>2.571429</td>\n",
       "      <td>2.454545</td>\n",
       "      <td>0.142857</td>\n",
       "      <td>0.090909</td>\n",
       "    </tr>\n",
       "    <tr>\n",
       "      <th>111</th>\n",
       "      <td>1.214286</td>\n",
       "      <td>1.500000</td>\n",
       "      <td>0.714286</td>\n",
       "      <td>0.666667</td>\n",
       "      <td>10.642857</td>\n",
       "      <td>11.500000</td>\n",
       "      <td>5.285714</td>\n",
       "      <td>5.666667</td>\n",
       "      <td>13.642857</td>\n",
       "      <td>10.500000</td>\n",
       "      <td>5.571429</td>\n",
       "      <td>5.416667</td>\n",
       "      <td>2.571429</td>\n",
       "      <td>2.833333</td>\n",
       "      <td>0.142857</td>\n",
       "      <td>0.333333</td>\n",
       "    </tr>\n",
       "    <tr>\n",
       "      <th>125</th>\n",
       "      <td>1.214286</td>\n",
       "      <td>1.642857</td>\n",
       "      <td>0.714286</td>\n",
       "      <td>0.714286</td>\n",
       "      <td>10.642857</td>\n",
       "      <td>7.928571</td>\n",
       "      <td>5.285714</td>\n",
       "      <td>4.500000</td>\n",
       "      <td>13.642857</td>\n",
       "      <td>13.500000</td>\n",
       "      <td>5.571429</td>\n",
       "      <td>4.571429</td>\n",
       "      <td>2.571429</td>\n",
       "      <td>2.714286</td>\n",
       "      <td>0.142857</td>\n",
       "      <td>0.071429</td>\n",
       "    </tr>\n",
       "    <tr>\n",
       "      <th>145</th>\n",
       "      <td>1.214286</td>\n",
       "      <td>0.923077</td>\n",
       "      <td>0.714286</td>\n",
       "      <td>0.461538</td>\n",
       "      <td>10.642857</td>\n",
       "      <td>8.538462</td>\n",
       "      <td>5.285714</td>\n",
       "      <td>4.000000</td>\n",
       "      <td>13.642857</td>\n",
       "      <td>11.307692</td>\n",
       "      <td>5.571429</td>\n",
       "      <td>4.923077</td>\n",
       "      <td>2.571429</td>\n",
       "      <td>2.846154</td>\n",
       "      <td>0.142857</td>\n",
       "      <td>0.076923</td>\n",
       "    </tr>\n",
       "    <tr>\n",
       "      <th>162</th>\n",
       "      <td>1.214286</td>\n",
       "      <td>2.307692</td>\n",
       "      <td>0.714286</td>\n",
       "      <td>0.923077</td>\n",
       "      <td>10.642857</td>\n",
       "      <td>12.076923</td>\n",
       "      <td>5.285714</td>\n",
       "      <td>6.307692</td>\n",
       "      <td>13.642857</td>\n",
       "      <td>11.384615</td>\n",
       "      <td>5.571429</td>\n",
       "      <td>5.384615</td>\n",
       "      <td>2.571429</td>\n",
       "      <td>1.769231</td>\n",
       "      <td>0.142857</td>\n",
       "      <td>0.230769</td>\n",
       "    </tr>\n",
       "    <tr>\n",
       "      <th>182</th>\n",
       "      <td>1.214286</td>\n",
       "      <td>1.285714</td>\n",
       "      <td>0.714286</td>\n",
       "      <td>0.428571</td>\n",
       "      <td>10.642857</td>\n",
       "      <td>10.357143</td>\n",
       "      <td>5.285714</td>\n",
       "      <td>6.000000</td>\n",
       "      <td>13.642857</td>\n",
       "      <td>15.214286</td>\n",
       "      <td>5.571429</td>\n",
       "      <td>6.214286</td>\n",
       "      <td>2.571429</td>\n",
       "      <td>2.642857</td>\n",
       "      <td>0.142857</td>\n",
       "      <td>0.142857</td>\n",
       "    </tr>\n",
       "    <tr>\n",
       "      <th>198</th>\n",
       "      <td>1.214286</td>\n",
       "      <td>1.333333</td>\n",
       "      <td>0.714286</td>\n",
       "      <td>0.416667</td>\n",
       "      <td>10.642857</td>\n",
       "      <td>10.416667</td>\n",
       "      <td>5.285714</td>\n",
       "      <td>6.166667</td>\n",
       "      <td>13.642857</td>\n",
       "      <td>10.416667</td>\n",
       "      <td>5.571429</td>\n",
       "      <td>4.666667</td>\n",
       "      <td>2.571429</td>\n",
       "      <td>2.500000</td>\n",
       "      <td>0.142857</td>\n",
       "      <td>0.083333</td>\n",
       "    </tr>\n",
       "    <tr>\n",
       "      <th>213</th>\n",
       "      <td>1.214286</td>\n",
       "      <td>0.923077</td>\n",
       "      <td>0.714286</td>\n",
       "      <td>0.307692</td>\n",
       "      <td>10.642857</td>\n",
       "      <td>9.846154</td>\n",
       "      <td>5.285714</td>\n",
       "      <td>4.846154</td>\n",
       "      <td>13.642857</td>\n",
       "      <td>13.153846</td>\n",
       "      <td>5.571429</td>\n",
       "      <td>3.846154</td>\n",
       "      <td>2.571429</td>\n",
       "      <td>2.307692</td>\n",
       "      <td>0.142857</td>\n",
       "      <td>0.230769</td>\n",
       "    </tr>\n",
       "    <tr>\n",
       "      <th>234</th>\n",
       "      <td>1.214286</td>\n",
       "      <td>1.083333</td>\n",
       "      <td>0.714286</td>\n",
       "      <td>0.333333</td>\n",
       "      <td>10.642857</td>\n",
       "      <td>11.083333</td>\n",
       "      <td>5.285714</td>\n",
       "      <td>5.666667</td>\n",
       "      <td>13.642857</td>\n",
       "      <td>13.916667</td>\n",
       "      <td>5.571429</td>\n",
       "      <td>5.750000</td>\n",
       "      <td>2.571429</td>\n",
       "      <td>3.000000</td>\n",
       "      <td>0.142857</td>\n",
       "      <td>0.083333</td>\n",
       "    </tr>\n",
       "    <tr>\n",
       "      <th>254</th>\n",
       "      <td>1.214286</td>\n",
       "      <td>0.785714</td>\n",
       "      <td>0.714286</td>\n",
       "      <td>0.285714</td>\n",
       "      <td>10.642857</td>\n",
       "      <td>6.642857</td>\n",
       "      <td>5.285714</td>\n",
       "      <td>2.857143</td>\n",
       "      <td>13.642857</td>\n",
       "      <td>13.928571</td>\n",
       "      <td>5.571429</td>\n",
       "      <td>3.500000</td>\n",
       "      <td>2.571429</td>\n",
       "      <td>3.357143</td>\n",
       "      <td>0.142857</td>\n",
       "      <td>0.142857</td>\n",
       "    </tr>\n",
       "  </tbody>\n",
       "</table>\n",
       "</div>"
      ],
      "text/plain": [
       "       FTHG_M    FTAG_M    HTHG_M    HTAG_M       HS_M       AS_M     HST_M  \\\n",
       "13   1.214286  0.916667  0.714286  0.416667  10.642857   9.583333  5.285714   \n",
       "33   1.214286  0.857143  0.714286  0.571429  10.642857   9.785714  5.285714   \n",
       "52   1.214286  0.615385  0.714286  0.153846  10.642857   8.230769  5.285714   \n",
       "74   1.214286  1.307692  0.714286  0.769231  10.642857   6.384615  5.285714   \n",
       "93   1.214286  0.727273  0.714286  0.090909  10.642857   9.181818  5.285714   \n",
       "111  1.214286  1.500000  0.714286  0.666667  10.642857  11.500000  5.285714   \n",
       "125  1.214286  1.642857  0.714286  0.714286  10.642857   7.928571  5.285714   \n",
       "145  1.214286  0.923077  0.714286  0.461538  10.642857   8.538462  5.285714   \n",
       "162  1.214286  2.307692  0.714286  0.923077  10.642857  12.076923  5.285714   \n",
       "182  1.214286  1.285714  0.714286  0.428571  10.642857  10.357143  5.285714   \n",
       "198  1.214286  1.333333  0.714286  0.416667  10.642857  10.416667  5.285714   \n",
       "213  1.214286  0.923077  0.714286  0.307692  10.642857   9.846154  5.285714   \n",
       "234  1.214286  1.083333  0.714286  0.333333  10.642857  11.083333  5.285714   \n",
       "254  1.214286  0.785714  0.714286  0.285714  10.642857   6.642857  5.285714   \n",
       "\n",
       "        AST_M       HF_M       AF_M      HC_M      AC_M      HY_M      AY_M  \\\n",
       "13   5.166667  13.642857  11.166667  5.571429  5.583333  2.571429  2.000000   \n",
       "33   5.357143  13.642857  14.571429  5.571429  4.928571  2.571429  2.928571   \n",
       "52   3.769231  13.642857  14.846154  5.571429  3.538462  2.571429  2.923077   \n",
       "74   3.461538  13.642857  12.307692  5.571429  3.923077  2.571429  2.153846   \n",
       "93   3.818182  13.642857  13.727273  5.571429  4.000000  2.571429  2.454545   \n",
       "111  5.666667  13.642857  10.500000  5.571429  5.416667  2.571429  2.833333   \n",
       "125  4.500000  13.642857  13.500000  5.571429  4.571429  2.571429  2.714286   \n",
       "145  4.000000  13.642857  11.307692  5.571429  4.923077  2.571429  2.846154   \n",
       "162  6.307692  13.642857  11.384615  5.571429  5.384615  2.571429  1.769231   \n",
       "182  6.000000  13.642857  15.214286  5.571429  6.214286  2.571429  2.642857   \n",
       "198  6.166667  13.642857  10.416667  5.571429  4.666667  2.571429  2.500000   \n",
       "213  4.846154  13.642857  13.153846  5.571429  3.846154  2.571429  2.307692   \n",
       "234  5.666667  13.642857  13.916667  5.571429  5.750000  2.571429  3.000000   \n",
       "254  2.857143  13.642857  13.928571  5.571429  3.500000  2.571429  3.357143   \n",
       "\n",
       "         HR_M      AR_M  \n",
       "13   0.142857  0.166667  \n",
       "33   0.142857  0.071429  \n",
       "52   0.142857  0.076923  \n",
       "74   0.142857  0.000000  \n",
       "93   0.142857  0.090909  \n",
       "111  0.142857  0.333333  \n",
       "125  0.142857  0.071429  \n",
       "145  0.142857  0.076923  \n",
       "162  0.142857  0.230769  \n",
       "182  0.142857  0.142857  \n",
       "198  0.142857  0.083333  \n",
       "213  0.142857  0.230769  \n",
       "234  0.142857  0.083333  \n",
       "254  0.142857  0.142857  "
      ]
     },
     "execution_count": 336,
     "metadata": {},
     "output_type": "execute_result"
    }
   ],
   "source": [
    "df.loc[df.HomeTeam == 0, columns_mean]"
   ]
  },
  {
   "cell_type": "code",
   "execution_count": 528,
   "metadata": {},
   "outputs": [],
   "source": [
    "####### Costruisco il modello\n",
    "x_model_columns = ['HomeTeam', 'AwayTeam']\n",
    "for i in range(len(columns_mean)):\n",
    "    x_model_columns.append(columns_mean[i])\n",
    "    \n",
    "x_model = df.loc[21:, x_model_columns].values\n",
    "y_model = df.loc[21:, 'FTHG'].values"
   ]
  },
  {
   "cell_type": "code",
   "execution_count": 529,
   "metadata": {},
   "outputs": [
    {
     "data": {
      "text/plain": [
       "(238,)"
      ]
     },
     "execution_count": 529,
     "metadata": {},
     "output_type": "execute_result"
    }
   ],
   "source": [
    "y_model.shape"
   ]
  },
  {
   "cell_type": "code",
   "execution_count": 530,
   "metadata": {},
   "outputs": [],
   "source": [
    "from sklearn.tree import DecisionTreeClassifier"
   ]
  },
  {
   "cell_type": "code",
   "execution_count": 546,
   "metadata": {},
   "outputs": [],
   "source": [
    "lr = DecisionTreeClassifier(max_depth=6)\n",
    "x_train, x_test, y_train, y_test = train_test_split(x_model, y_model, test_size=0.20, shuffle=False)"
   ]
  },
  {
   "cell_type": "code",
   "execution_count": 622,
   "metadata": {},
   "outputs": [
    {
     "data": {
      "text/plain": [
       "DecisionTreeClassifier(class_weight=None, criterion='gini', max_depth=6,\n",
       "            max_features=None, max_leaf_nodes=None,\n",
       "            min_impurity_decrease=0.0, min_impurity_split=None,\n",
       "            min_samples_leaf=1, min_samples_split=2,\n",
       "            min_weight_fraction_leaf=0.0, presort=False, random_state=None,\n",
       "            splitter='best')"
      ]
     },
     "execution_count": 622,
     "metadata": {},
     "output_type": "execute_result"
    }
   ],
   "source": [
    "lr.fit(x_train, y_train)"
   ]
  },
  {
   "cell_type": "code",
   "execution_count": 623,
   "metadata": {},
   "outputs": [],
   "source": [
    "pred = lr.predict(x_test)"
   ]
  },
  {
   "cell_type": "code",
   "execution_count": 624,
   "metadata": {},
   "outputs": [
    {
     "name": "stdout",
     "output_type": "stream",
     "text": [
      "[3 2 2 2 1 1 1 0 0 3 1 0 0 2 1 0 2 0 1 2 1 0 2 0 2 3 1 0 2 5 0 2 0 1 0 0 3\n",
      " 2 0 0 0 3 1 2 1 1 2 0]\n",
      "[3 3 1 0 1 0 1 0 0 1 0 0 0 2 1 3 0 0 1 3 1 2 3 2 2 0 1 1 2 3 2 2 0 0 3 0 1\n",
      " 1 2 3 3 1 3 0 1 1 3 2]\n"
     ]
    }
   ],
   "source": [
    "print(pred)\n",
    "print(y_test)"
   ]
  },
  {
   "cell_type": "code",
   "execution_count": 625,
   "metadata": {},
   "outputs": [
    {
     "name": "stdout",
     "output_type": "stream",
     "text": [
      "             precision    recall  f1-score   support\n",
      "\n",
      "          0       0.41      0.50      0.45        14\n",
      "          1       0.67      0.57      0.62        14\n",
      "          2       0.31      0.44      0.36         9\n",
      "          3       0.20      0.09      0.13        11\n",
      "          5       0.00      0.00      0.00         0\n",
      "\n",
      "avg / total       0.42      0.42      0.41        48\n",
      "\n"
     ]
    },
    {
     "name": "stderr",
     "output_type": "stream",
     "text": [
      "C:\\Users\\alfre\\Anaconda3\\lib\\site-packages\\sklearn\\metrics\\classification.py:1137: UndefinedMetricWarning: Recall and F-score are ill-defined and being set to 0.0 in labels with no true samples.\n",
      "  'recall', 'true', average, warn_for)\n"
     ]
    }
   ],
   "source": [
    "print(classification_report(y_true= y_test, y_pred= pred))"
   ]
  },
  {
   "cell_type": "code",
   "execution_count": null,
   "metadata": {},
   "outputs": [],
   "source": []
  },
  {
   "cell_type": "code",
   "execution_count": null,
   "metadata": {},
   "outputs": [],
   "source": []
  },
  {
   "cell_type": "code",
   "execution_count": null,
   "metadata": {},
   "outputs": [],
   "source": [
    "# Random Forest"
   ]
  },
  {
   "cell_type": "code",
   "execution_count": 630,
   "metadata": {},
   "outputs": [],
   "source": [
    "from sklearn.ensemble import RandomForestClassifier"
   ]
  },
  {
   "cell_type": "code",
   "execution_count": 703,
   "metadata": {},
   "outputs": [],
   "source": [
    "forest = RandomForestClassifier(criterion='entropy' , n_estimators=11, n_jobs=2, random_state=3)"
   ]
  },
  {
   "cell_type": "code",
   "execution_count": 704,
   "metadata": {},
   "outputs": [
    {
     "data": {
      "text/plain": [
       "RandomForestClassifier(bootstrap=True, class_weight=None, criterion='entropy',\n",
       "            max_depth=None, max_features='auto', max_leaf_nodes=None,\n",
       "            min_impurity_decrease=0.0, min_impurity_split=None,\n",
       "            min_samples_leaf=1, min_samples_split=2,\n",
       "            min_weight_fraction_leaf=0.0, n_estimators=11, n_jobs=2,\n",
       "            oob_score=False, random_state=3, verbose=0, warm_start=False)"
      ]
     },
     "execution_count": 704,
     "metadata": {},
     "output_type": "execute_result"
    }
   ],
   "source": [
    "forest.fit(x_train, y_train)"
   ]
  },
  {
   "cell_type": "code",
   "execution_count": 705,
   "metadata": {},
   "outputs": [],
   "source": [
    "pred_forest = forest.predict(x_test)"
   ]
  },
  {
   "cell_type": "code",
   "execution_count": 706,
   "metadata": {},
   "outputs": [
    {
     "name": "stdout",
     "output_type": "stream",
     "text": [
      "             precision    recall  f1-score   support\n",
      "\n",
      "          0       0.69      0.64      0.67        14\n",
      "          1       0.50      0.64      0.56        14\n",
      "          2       0.25      0.33      0.29         9\n",
      "          3       0.60      0.27      0.37        11\n",
      "\n",
      "avg / total       0.53      0.50      0.50        48\n",
      "\n"
     ]
    }
   ],
   "source": [
    "print(classification_report(y_pred=pred_forest, y_true=y_test))"
   ]
  },
  {
   "cell_type": "code",
   "execution_count": 723,
   "metadata": {},
   "outputs": [],
   "source": [
    "from sklearn.metrics import precision_score"
   ]
  },
  {
   "cell_type": "code",
   "execution_count": 728,
   "metadata": {},
   "outputs": [
    {
     "name": "stdout",
     "output_type": "stream",
     "text": [
      "0.5321314102564103\n"
     ]
    }
   ],
   "source": [
    "print(precision_score(y_true=y_test, y_pred=pred_forest, average='weighted'))"
   ]
  },
  {
   "cell_type": "code",
   "execution_count": null,
   "metadata": {},
   "outputs": [],
   "source": []
  },
  {
   "cell_type": "code",
   "execution_count": null,
   "metadata": {},
   "outputs": [],
   "source": []
  },
  {
   "cell_type": "code",
   "execution_count": null,
   "metadata": {},
   "outputs": [],
   "source": [
    "# BAgging"
   ]
  },
  {
   "cell_type": "code",
   "execution_count": 729,
   "metadata": {},
   "outputs": [],
   "source": [
    "from sklearn.ensemble import BaggingClassifier\n",
    "from sklearn.neighbors import KNeighborsClassifier"
   ]
  },
  {
   "cell_type": "code",
   "execution_count": 815,
   "metadata": {},
   "outputs": [],
   "source": [
    "bagging = BaggingClassifier(KNeighborsClassifier(n_neighbors=5), max_samples=0.5, max_features=0.5, random_state=3) "
   ]
  },
  {
   "cell_type": "code",
   "execution_count": 816,
   "metadata": {},
   "outputs": [
    {
     "data": {
      "text/plain": [
       "BaggingClassifier(base_estimator=KNeighborsClassifier(algorithm='auto', leaf_size=30, metric='minkowski',\n",
       "           metric_params=None, n_jobs=1, n_neighbors=5, p=2,\n",
       "           weights='uniform'),\n",
       "         bootstrap=True, bootstrap_features=False, max_features=0.5,\n",
       "         max_samples=0.5, n_estimators=10, n_jobs=1, oob_score=False,\n",
       "         random_state=3, verbose=0, warm_start=False)"
      ]
     },
     "execution_count": 816,
     "metadata": {},
     "output_type": "execute_result"
    }
   ],
   "source": [
    "bagging.fit(x_train, y_train)"
   ]
  },
  {
   "cell_type": "code",
   "execution_count": 817,
   "metadata": {},
   "outputs": [],
   "source": [
    "pred_bagging = bagging.predict(x_test)"
   ]
  },
  {
   "cell_type": "code",
   "execution_count": 818,
   "metadata": {},
   "outputs": [
    {
     "name": "stdout",
     "output_type": "stream",
     "text": [
      "0.44682247899159666\n"
     ]
    }
   ],
   "source": [
    "print((precision_score(y_true=y_test, y_pred=pred_bagging, average='weighted')))"
   ]
  },
  {
   "cell_type": "code",
   "execution_count": 819,
   "metadata": {},
   "outputs": [
    {
     "name": "stdout",
     "output_type": "stream",
     "text": [
      "             precision    recall  f1-score   support\n",
      "\n",
      "          0       0.50      0.43      0.46        14\n",
      "          1       0.53      0.64      0.58        14\n",
      "          2       0.08      0.11      0.10         9\n",
      "          3       0.57      0.36      0.44        11\n",
      "\n",
      "avg / total       0.45      0.42      0.42        48\n",
      "\n"
     ]
    }
   ],
   "source": [
    "print(classification_report(y_pred=pred_bagging, y_true=y_test))"
   ]
  },
  {
   "cell_type": "code",
   "execution_count": null,
   "metadata": {},
   "outputs": [],
   "source": []
  },
  {
   "cell_type": "code",
   "execution_count": null,
   "metadata": {},
   "outputs": [],
   "source": []
  },
  {
   "cell_type": "code",
   "execution_count": null,
   "metadata": {},
   "outputs": [],
   "source": []
  },
  {
   "cell_type": "code",
   "execution_count": null,
   "metadata": {},
   "outputs": [],
   "source": []
  },
  {
   "cell_type": "code",
   "execution_count": null,
   "metadata": {},
   "outputs": [],
   "source": [
    "# Confronto modelli"
   ]
  },
  {
   "cell_type": "code",
   "execution_count": 578,
   "metadata": {},
   "outputs": [],
   "source": [
    "from sklearn.model_selection import cross_val_score\n",
    "from sklearn.linear_model import ARDRegression\n",
    "from sklearn.naive_bayes import GaussianNB\n",
    "from sklearn.ensemble import RandomForestClassifier,VotingClassifier"
   ]
  },
  {
   "cell_type": "code",
   "execution_count": 626,
   "metadata": {},
   "outputs": [],
   "source": [
    "clf1 = DecisionTreeClassifier(random_state=None, max_depth=6)\n",
    "clf2 = RandomForestClassifier(n_estimators=50, criterion='gini',  n_jobs = -1,  random_state=None)\n",
    "clf3 = GaussianNB()"
   ]
  },
  {
   "cell_type": "code",
   "execution_count": 627,
   "metadata": {},
   "outputs": [],
   "source": [
    "eclf = VotingClassifier(estimators=[('rf1', clf1), ('rf2', clf2), ('gnb', clf3)], voting='soft')"
   ]
  },
  {
   "cell_type": "code",
   "execution_count": 628,
   "metadata": {},
   "outputs": [
    {
     "name": "stdout",
     "output_type": "stream",
     "text": [
      "0.12678251737825585\n",
      "Accuracy: 0.26 (+/- 0.13)[Linear Regression]\n",
      "0.0977486493426121\n",
      "Accuracy: 0.22 (+/- 0.10)[Random Forest]\n",
      "0.1100618510850168\n",
      "Accuracy: 0.30 (+/- 0.11)[Naive Bayes]\n"
     ]
    },
    {
     "name": "stderr",
     "output_type": "stream",
     "text": [
      "C:\\Users\\alfre\\Anaconda3\\lib\\site-packages\\sklearn\\preprocessing\\label.py:151: DeprecationWarning: The truth value of an empty array is ambiguous. Returning False, but in future this will result in an error. Use `array.size > 0` to check that an array is not empty.\n",
      "  if diff:\n",
      "C:\\Users\\alfre\\Anaconda3\\lib\\site-packages\\sklearn\\preprocessing\\label.py:151: DeprecationWarning: The truth value of an empty array is ambiguous. Returning False, but in future this will result in an error. Use `array.size > 0` to check that an array is not empty.\n",
      "  if diff:\n",
      "C:\\Users\\alfre\\Anaconda3\\lib\\site-packages\\sklearn\\preprocessing\\label.py:151: DeprecationWarning: The truth value of an empty array is ambiguous. Returning False, but in future this will result in an error. Use `array.size > 0` to check that an array is not empty.\n",
      "  if diff:\n",
      "C:\\Users\\alfre\\Anaconda3\\lib\\site-packages\\sklearn\\preprocessing\\label.py:151: DeprecationWarning: The truth value of an empty array is ambiguous. Returning False, but in future this will result in an error. Use `array.size > 0` to check that an array is not empty.\n",
      "  if diff:\n"
     ]
    },
    {
     "name": "stdout",
     "output_type": "stream",
     "text": [
      "0.14379292095011198\n",
      "Accuracy: 0.32 (+/- 0.14)[Ensemble]\n"
     ]
    },
    {
     "name": "stderr",
     "output_type": "stream",
     "text": [
      "C:\\Users\\alfre\\Anaconda3\\lib\\site-packages\\sklearn\\preprocessing\\label.py:151: DeprecationWarning: The truth value of an empty array is ambiguous. Returning False, but in future this will result in an error. Use `array.size > 0` to check that an array is not empty.\n",
      "  if diff:\n"
     ]
    }
   ],
   "source": [
    "for clf, label in zip([clf1, clf2, clf3, eclf], ['Linear Regression', 'Random Forest', 'Naive Bayes', 'Ensemble']):\n",
    "    scores = cross_val_score(clf, x_test, y_test, cv = 5, scoring='accuracy')\n",
    "    print(scores.std())\n",
    "    print('Accuracy: %0.2f (+/- %0.2f)[%s]'  % (scores.mean(), scores.std(), label))"
   ]
  },
  {
   "cell_type": "code",
   "execution_count": null,
   "metadata": {},
   "outputs": [],
   "source": []
  }
 ],
 "metadata": {
  "kernelspec": {
   "display_name": "Python 3",
   "language": "python",
   "name": "python3"
  },
  "language_info": {
   "codemirror_mode": {
    "name": "ipython",
    "version": 3
   },
   "file_extension": ".py",
   "mimetype": "text/x-python",
   "name": "python",
   "nbconvert_exporter": "python",
   "pygments_lexer": "ipython3",
   "version": "3.6.5"
  }
 },
 "nbformat": 4,
 "nbformat_minor": 2
}
